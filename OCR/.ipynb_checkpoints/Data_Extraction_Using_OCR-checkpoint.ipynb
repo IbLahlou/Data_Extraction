{
 "cells": [
  {
   "cell_type": "code",
   "execution_count": 1,
   "id": "2e794d33",
   "metadata": {},
   "outputs": [
    {
     "ename": "NameError",
     "evalue": "name 'pd' is not defined",
     "output_type": "error",
     "traceback": [
      "\u001b[1;31m---------------------------------------------------------------------------\u001b[0m",
      "\u001b[1;31mNameError\u001b[0m                                 Traceback (most recent call last)",
      "Cell \u001b[1;32mIn[1], line 10\u001b[0m\n\u001b[0;32m      7\u001b[0m dfs \u001b[38;5;241m=\u001b[39m tabula\u001b[38;5;241m.\u001b[39mread_pdf(pdf_file_path, pages\u001b[38;5;241m=\u001b[39m\u001b[38;5;124m'\u001b[39m\u001b[38;5;124mall\u001b[39m\u001b[38;5;124m'\u001b[39m)\n\u001b[0;32m      9\u001b[0m \u001b[38;5;66;03m# Combine data from all pages into a single DataFrame\u001b[39;00m\n\u001b[1;32m---> 10\u001b[0m combined_df \u001b[38;5;241m=\u001b[39m pd\u001b[38;5;241m.\u001b[39mconcat(dfs)\n\u001b[0;32m     12\u001b[0m \u001b[38;5;66;03m# Save the extracted data to a CSV file\u001b[39;00m\n\u001b[0;32m     13\u001b[0m output_csv_path \u001b[38;5;241m=\u001b[39m \u001b[38;5;124m\"\u001b[39m\u001b[38;5;124mextracted_data.csv\u001b[39m\u001b[38;5;124m\"\u001b[39m\n",
      "\u001b[1;31mNameError\u001b[0m: name 'pd' is not defined"
     ]
    }
   ],
   "source": [
    "import tabula\n",
    "import pandas as pd\n",
    "\n",
    "# Provide the path to your PDF file\n",
    "pdf_file_path = \"Course Notes.pdf\"\n",
    "\n",
    "# Extract data from all pages of the PDF\n",
    "dfs = tabula.read_pdf(pdf_file_path, pages='all')\n",
    "\n",
    "# Combine data from all pages into a single DataFrame\n",
    "combined_df = pd.concat(dfs)\n",
    "\n",
    "# Save the extracted data to a CSV file\n",
    "output_csv_path = \"extracted_data.csv\"\n",
    "combined_df.to_csv(output_csv_path, index=False)\n",
    "\n",
    "print(\"Data extracted and saved to 'extracted_data.csv'.\")"
   ]
  },
  {
   "cell_type": "code",
   "execution_count": null,
   "id": "0075903c",
   "metadata": {},
   "outputs": [],
   "source": []
  }
 ],
 "metadata": {
  "kernelspec": {
   "display_name": "Python 3 (ipykernel)",
   "language": "python",
   "name": "python3"
  },
  "language_info": {
   "codemirror_mode": {
    "name": "ipython",
    "version": 3
   },
   "file_extension": ".py",
   "mimetype": "text/x-python",
   "name": "python",
   "nbconvert_exporter": "python",
   "pygments_lexer": "ipython3",
   "version": "3.11.3"
  }
 },
 "nbformat": 4,
 "nbformat_minor": 5
}
