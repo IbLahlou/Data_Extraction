{
 "cells": [
  {
   "cell_type": "code",
   "execution_count": 2,
   "id": "69e05a3d",
   "metadata": {},
   "outputs": [],
   "source": [
    "import re"
   ]
  },
  {
   "cell_type": "code",
   "execution_count": 5,
   "id": "4fc3725b",
   "metadata": {},
   "outputs": [],
   "source": [
    "import csv\n",
    "import re\n",
    "\n",
    "def extract_email_and_phone(text):\n",
    "    email_pattern = r'[a-zA-Z0-9._%+-]+@[a-zA-Z0-9.-]+\\.[a-zA-Z]{2,}'\n",
    "    phone_pattern = r'\\(\\d{3}\\) \\d{3}-\\d{4}'\n",
    "\n",
    "    emails = re.findall(email_pattern, text)\n",
    "    phones = re.findall(phone_pattern, text)\n",
    "\n",
    "    return emails, phones\n"
   ]
  },
  {
   "cell_type": "code",
   "execution_count": 6,
   "id": "9287757f",
   "metadata": {},
   "outputs": [],
   "source": [
    "# CSV file path\n",
    "csv_file_path = 'sample_data.csv'\n",
    "\n",
    "# Read data from the CSV file\n",
    "data = []\n",
    "with open(csv_file_path, mode='r') as file:\n",
    "    reader = csv.DictReader(file)\n",
    "    for row in reader:\n",
    "        data.append(row)\n",
    "\n"
   ]
  },
  {
   "cell_type": "code",
   "execution_count": 7,
   "id": "2a9ca7b2",
   "metadata": {},
   "outputs": [],
   "source": [
    "# Extract emails and phone numbers from the data\n",
    "for entry in data:\n",
    "    name = entry['Name']\n",
    "    emails, phones = extract_email_and_phone(entry['Email'] + \" \" + entry['Phone'])\n",
    "    entry['Emails'] = emails\n",
    "    entry['Phones'] = phones\n",
    "\n"
   ]
  },
  {
   "cell_type": "code",
   "execution_count": 8,
   "id": "1cfb1887",
   "metadata": {},
   "outputs": [
    {
     "name": "stdout",
     "output_type": "stream",
     "text": [
      "Name: John Doe\n",
      "Emails: john.doe@example.com\n",
      "Phones: (123) 456-7890\n",
      "\n",
      "Name: Jane Smith\n",
      "Emails: jane.smith@example.com\n",
      "Phones: (987) 654-3210\n",
      "\n",
      "Name: Alice Johnson\n",
      "Emails: alice.johnson@example.com\n",
      "Phones: (555) 123-4567\n",
      "\n",
      "Name: Bob Williams\n",
      "Emails: bob.williams@example.com\n",
      "Phones: (777) 888-9999\n",
      "\n",
      "Name: Emma Brown\n",
      "Emails: emma.brown@example.com\n",
      "Phones: (444) 555-6666\n",
      "\n",
      "Name: Michael Davis\n",
      "Emails: michael.davis@example.com\n",
      "Phones: (111) 222-3333\n",
      "\n",
      "Name: Olivia Miller\n",
      "Emails: olivia.miller@example.com\n",
      "Phones: (999) 888-7777\n",
      "\n",
      "Name: William Garcia\n",
      "Emails: william.garcia@example.com\n",
      "Phones: (555) 444-3333\n",
      "\n",
      "Name: Sophia Martinez\n",
      "Emails: sophia.martinez@example.com\n",
      "Phones: (999) 111-2222\n",
      "\n",
      "Name: James Rodriguez\n",
      "Emails: james.rodriguez@example.com\n",
      "Phones: (666) 777-8888\n",
      "\n"
     ]
    }
   ],
   "source": [
    "# Display the extracted data\n",
    "for entry in data:\n",
    "    print(f\"Name: {entry['Name']}\")\n",
    "    print(f\"Emails: {', '.join(entry['Emails'])}\")\n",
    "    print(f\"Phones: {', '.join(entry['Phones'])}\")\n",
    "    print()"
   ]
  },
  {
   "cell_type": "code",
   "execution_count": null,
   "id": "81647529",
   "metadata": {},
   "outputs": [],
   "source": []
  }
 ],
 "metadata": {
  "kernelspec": {
   "display_name": "Python 3 (ipykernel)",
   "language": "python",
   "name": "python3"
  },
  "language_info": {
   "codemirror_mode": {
    "name": "ipython",
    "version": 3
   },
   "file_extension": ".py",
   "mimetype": "text/x-python",
   "name": "python",
   "nbconvert_exporter": "python",
   "pygments_lexer": "ipython3",
   "version": "3.11.3"
  }
 },
 "nbformat": 4,
 "nbformat_minor": 5
}
