{
 "cells": [
  {
   "cell_type": "code",
   "execution_count": 3,
   "id": "188bbef2",
   "metadata": {},
   "outputs": [
    {
     "data": {
      "text/html": [
       "<div>\n",
       "<style scoped>\n",
       "    .dataframe tbody tr th:only-of-type {\n",
       "        vertical-align: middle;\n",
       "    }\n",
       "\n",
       "    .dataframe tbody tr th {\n",
       "        vertical-align: top;\n",
       "    }\n",
       "\n",
       "    .dataframe thead th {\n",
       "        text-align: right;\n",
       "    }\n",
       "</style>\n",
       "<table border=\"1\" class=\"dataframe\">\n",
       "  <thead>\n",
       "    <tr style=\"text-align: right;\">\n",
       "      <th></th>\n",
       "      <th>Product Name</th>\n",
       "      <th>Product Description</th>\n",
       "      <th>Image URL</th>\n",
       "      <th>Price</th>\n",
       "      <th>Rating</th>\n",
       "      <th>Availability</th>\n",
       "    </tr>\n",
       "  </thead>\n",
       "  <tbody>\n",
       "  </tbody>\n",
       "</table>\n",
       "</div>"
      ],
      "text/plain": [
       "Empty DataFrame\n",
       "Columns: [Product Name, Product Description, Image URL, Price, Rating, Availability]\n",
       "Index: []"
      ]
     },
     "execution_count": 3,
     "metadata": {},
     "output_type": "execute_result"
    }
   ],
   "source": [
    "import pandas as pd\n",
    "from bs4 import BeautifulSoup\n",
    "\n",
    "# Read the content of the local index.html file\n",
    "with open(\"index.html\", \"r\", encoding=\"utf-8\") as file:\n",
    "    html_content = file.read()\n",
    "\n",
    "# Parse the HTML content using BeautifulSoup\n",
    "soup = BeautifulSoup(html_content, \"html.parser\")\n",
    "\n",
    "# Find all the rows (tr) in the table\n",
    "table_rows = soup.find_all(\"tr\")\n",
    "\n",
    "# Create lists to store the extracted data\n",
    "product_names = []\n",
    "product_descriptions = []\n",
    "image_urls = []\n",
    "product_prices = []\n",
    "product_ratings = []\n",
    "availabilities = []\n",
    "\n",
    "# Loop through each row in the table (skip the header row - index 0)\n",
    "for row in table_rows[1:]:\n",
    "    # Find all the columns (td) in the current row\n",
    "    columns = row.find_all(\"td\")\n",
    "    \n",
    "    # Extract the data from each column\n",
    "    product_names.append(columns[0].text.strip())\n",
    "    product_descriptions.append(columns[1].text.strip())\n",
    "    image_urls.append(columns[2].text.strip())\n",
    "    product_prices.append(columns[3].text.strip())\n",
    "    product_ratings.append(columns[4].text.strip())\n",
    "    availabilities.append(columns[5].text.strip())\n",
    "\n",
    "# Create a dictionary with the extracted data\n",
    "data = {\n",
    "    \"Product Name\": product_names,\n",
    "    \"Product Description\": product_descriptions,\n",
    "    \"Image URL\": image_urls,\n",
    "    \"Price\": product_prices,\n",
    "    \"Rating\": product_ratings,\n",
    "    \"Availability\": availabilities\n",
    "}\n",
    "\n",
    "# Create a pandas DataFrame from the dictionary\n",
    "df = pd.DataFrame(data)\n",
    "\n",
    "# Display the DataFrame\n",
    "df"
   ]
  },
  {
   "cell_type": "code",
   "execution_count": null,
   "id": "a52db46c",
   "metadata": {},
   "outputs": [],
   "source": []
  }
 ],
 "metadata": {
  "kernelspec": {
   "display_name": "Python 3 (ipykernel)",
   "language": "python",
   "name": "python3"
  },
  "language_info": {
   "codemirror_mode": {
    "name": "ipython",
    "version": 3
   },
   "file_extension": ".py",
   "mimetype": "text/x-python",
   "name": "python",
   "nbconvert_exporter": "python",
   "pygments_lexer": "ipython3",
   "version": "3.11.3"
  }
 },
 "nbformat": 4,
 "nbformat_minor": 5
}
