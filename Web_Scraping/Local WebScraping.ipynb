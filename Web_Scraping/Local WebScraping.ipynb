{
 "cells": [
  {
   "cell_type": "markdown",
   "id": "92ef18e0",
   "metadata": {},
   "source": [
    "## Importing Libraries and Reading HTML Content"
   ]
  },
  {
   "cell_type": "code",
   "execution_count": 8,
   "id": "b8af0c82",
   "metadata": {},
   "outputs": [],
   "source": [
    "from bs4 import BeautifulSoup\n",
    "import pandas as pd\n",
    "from IPython.display import display, HTML\n",
    "\n",
    "# Read the content of the local index.html file\n",
    "with open(\"index.html\", \"r\", encoding=\"utf-8\") as file:\n",
    "    html_content = file.read()\n",
    "\n",
    "# Parse the HTML content using BeautifulSoup\n",
    "soup = BeautifulSoup(html_content, \"html.parser\")"
   ]
  },
  {
   "cell_type": "markdown",
   "id": "f15b3daf",
   "metadata": {},
   "source": [
    "## Extracting Product Information"
   ]
  },
  {
   "cell_type": "code",
   "execution_count": 9,
   "id": "dfc43878",
   "metadata": {},
   "outputs": [],
   "source": [
    "# Find all the card elements containing the products\n",
    "product_cards = soup.find_all(\"div\", class_=\"card\")\n",
    "\n",
    "# Create lists to store the extracted data\n",
    "product_names = []\n",
    "product_descriptions = []\n",
    "image_urls = []\n",
    "product_prices = []\n",
    "product_ratings = []\n",
    "availabilities = []\n",
    "\n",
    "# Loop through each product card and extract the data\n",
    "for card in product_cards:\n",
    "    product_names.append(card.find(\"h3\", class_=\"card-title\").text.strip())\n",
    "    product_descriptions.append(card.find(\"p\", class_=\"lead\").text.strip())\n",
    "    image_urls.append(card.find(\"img\", class_=\"card-img\")[\"src\"])\n",
    "    product_prices.append(card.find(\"p\", class_=\"product-price\").find(\"strong\").text.strip())\n",
    "    product_ratings.append(card.find(\"p\", class_=\"product-rating\").find(\"span\").text.strip())\n",
    "    availabilities.append(card.find(\"p\", class_=\"availability-badge\").text.strip())"
   ]
  },
  {
   "cell_type": "markdown",
   "id": "a49af114",
   "metadata": {},
   "source": [
    "## Creating HTML Image Tags"
   ]
  },
  {
   "cell_type": "code",
   "execution_count": 10,
   "id": "355b2cb6",
   "metadata": {},
   "outputs": [],
   "source": [
    "# Convert image URLs to HTML image tags\n",
    "image_tags = ['<img src=\"{}\" style=\"max-height: 200px; max-width: 200px;\"/>'.format(url) for url in image_urls]"
   ]
  },
  {
   "cell_type": "markdown",
   "id": "13ebdfc3",
   "metadata": {},
   "source": [
    "## Creating DataFrame and Displaying Results"
   ]
  },
  {
   "cell_type": "code",
   "execution_count": 11,
   "id": "c906d982",
   "metadata": {},
   "outputs": [
    {
     "data": {
      "text/html": [
       "<table border=\"1\" class=\"dataframe\">\n",
       "  <thead>\n",
       "    <tr style=\"text-align: right;\">\n",
       "      <th></th>\n",
       "      <th>Product Name</th>\n",
       "      <th>Product Description</th>\n",
       "      <th>Image</th>\n",
       "      <th>Price</th>\n",
       "      <th>Rating</th>\n",
       "      <th>Availability</th>\n",
       "    </tr>\n",
       "  </thead>\n",
       "  <tbody>\n",
       "    <tr>\n",
       "      <th>0</th>\n",
       "      <td>Chocolat Cake</td>\n",
       "      <td>Description: Web Chocolate Cake - a pretty cake  adorned with web-themed decorations</td>\n",
       "      <td><img src=\"choco_cake_web.jpeg\" style=\"max-height: 200px; max-width: 200px;\"/></td>\n",
       "      <td>$10</td>\n",
       "      <td>4.5 stars</td>\n",
       "      <td>In Stock</td>\n",
       "    </tr>\n",
       "    <tr>\n",
       "      <th>1</th>\n",
       "      <td>Airpod</td>\n",
       "      <td>Description: Original AirPods - Experience the freedom of true wireless listening</td>\n",
       "      <td><img src=\"airpod.jpeg\" style=\"max-height: 200px; max-width: 200px;\"/></td>\n",
       "      <td>$30</td>\n",
       "      <td>4.3 stars</td>\n",
       "      <td>In Stock</td>\n",
       "    </tr>\n",
       "    <tr>\n",
       "      <th>2</th>\n",
       "      <td>Lego Game</td>\n",
       "      <td>Description: Lego Game - Embark on a creative adventure with the Lego Game.</td>\n",
       "      <td><img src=\"lego.jpeg\" style=\"max-height: 200px; max-width: 200px;\"/></td>\n",
       "      <td>$12</td>\n",
       "      <td>4.2 stars</td>\n",
       "      <td>Out of Stock</td>\n",
       "    </tr>\n",
       "  </tbody>\n",
       "</table>"
      ],
      "text/plain": [
       "<IPython.core.display.HTML object>"
      ]
     },
     "metadata": {},
     "output_type": "display_data"
    }
   ],
   "source": [
    "# Create a dictionary with the extracted data\n",
    "data = {\n",
    "    \"Product Name\": product_names,\n",
    "    \"Product Description\": product_descriptions,\n",
    "    \"Image\": image_tags,\n",
    "    \"Price\": product_prices,\n",
    "    \"Rating\": product_ratings,\n",
    "    \"Availability\": availabilities\n",
    "}\n",
    "\n",
    "# Create a pandas DataFrame from the dictionary\n",
    "df = pd.DataFrame(data)\n",
    "\n",
    "# Display the DataFrame with images inline\n",
    "display(HTML(df.to_html(escape=False)))\n"
   ]
  },
  {
   "cell_type": "markdown",
   "id": "0b48d9cf",
   "metadata": {},
   "source": [
    "## Exporting this into Excel file"
   ]
  },
  {
   "cell_type": "code",
   "execution_count": 12,
   "id": "0dfc6244",
   "metadata": {},
   "outputs": [
    {
     "name": "stdout",
     "output_type": "stream",
     "text": [
      "DataFrame saved to products_data.xlsx.\n"
     ]
    }
   ],
   "source": [
    "# Save the DataFrame to an Excel file\n",
    "excel_file = \"products_data.xlsx\"\n",
    "df.to_excel(excel_file, index=False)\n",
    "\n",
    "print(f\"DataFrame saved to {excel_file}.\")"
   ]
  },
  {
   "cell_type": "code",
   "execution_count": null,
   "id": "0027611d",
   "metadata": {},
   "outputs": [],
   "source": []
  }
 ],
 "metadata": {
  "kernelspec": {
   "display_name": "Python 3 (ipykernel)",
   "language": "python",
   "name": "python3"
  },
  "language_info": {
   "codemirror_mode": {
    "name": "ipython",
    "version": 3
   },
   "file_extension": ".py",
   "mimetype": "text/x-python",
   "name": "python",
   "nbconvert_exporter": "python",
   "pygments_lexer": "ipython3",
   "version": "3.11.3"
  }
 },
 "nbformat": 4,
 "nbformat_minor": 5
}
