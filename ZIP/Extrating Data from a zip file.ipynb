{
 "cells": [
  {
   "cell_type": "code",
   "execution_count": 1,
   "id": "995237a3",
   "metadata": {},
   "outputs": [
    {
     "name": "stdout",
     "output_type": "stream",
     "text": [
      "              Name                        Email           Phone\n",
      "0         John Doe         john.doe@example.com  (123) 456-7890\n",
      "1       Jane Smith       jane.smith@example.com  (987) 654-3210\n",
      "2    Alice Johnson    alice.johnson@example.com  (555) 123-4567\n",
      "3     Bob Williams     bob.williams@example.com  (777) 888-9999\n",
      "4       Emma Brown       emma.brown@example.com  (444) 555-6666\n",
      "5    Michael Davis    michael.davis@example.com  (111) 222-3333\n",
      "6    Olivia Miller    olivia.miller@example.com  (999) 888-7777\n",
      "7   William Garcia   william.garcia@example.com  (555) 444-3333\n",
      "8  Sophia Martinez  sophia.martinez@example.com  (999) 111-2222\n",
      "9  James Rodriguez  james.rodriguez@example.com  (666) 777-8888\n"
     ]
    }
   ],
   "source": [
    "import pandas as pd\n",
    "import zipfile\n",
    "\n",
    "# Specify the path to the zipped file\n",
    "zip_file_path = \"sample_data.zip\"\n",
    "\n",
    "# Specify the name of the CSV file within the zipped file\n",
    "csv_file_name = \"sample_data.csv\"\n",
    "\n",
    "# Extract the CSV file from the zipped file\n",
    "with zipfile.ZipFile(zip_file_path, \"r\") as zip_ref:\n",
    "    zip_ref.extract(csv_file_name)\n",
    "\n",
    "# Read the data from the CSV file and create a DataFrame\n",
    "df = pd.read_csv(csv_file_name)\n",
    "\n",
    "# Display the DataFrame\n",
    "print(df)\n",
    "\n"
   ]
  },
  {
   "cell_type": "code",
   "execution_count": null,
   "id": "d29264b3",
   "metadata": {},
   "outputs": [],
   "source": [
    "# Optionally, you can remove the extracted CSV file\n",
    "import os\n",
    "os.remove(csv_file_name)\n"
   ]
  }
 ],
 "metadata": {
  "kernelspec": {
   "display_name": "Python 3 (ipykernel)",
   "language": "python",
   "name": "python3"
  },
  "language_info": {
   "codemirror_mode": {
    "name": "ipython",
    "version": 3
   },
   "file_extension": ".py",
   "mimetype": "text/x-python",
   "name": "python",
   "nbconvert_exporter": "python",
   "pygments_lexer": "ipython3",
   "version": "3.11.3"
  }
 },
 "nbformat": 4,
 "nbformat_minor": 5
}
